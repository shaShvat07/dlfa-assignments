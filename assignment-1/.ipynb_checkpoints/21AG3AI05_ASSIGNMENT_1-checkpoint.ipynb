{
 "cells": [
  {
   "cell_type": "markdown",
   "id": "05244db0-7b62-4998-a8c8-f511fdc5e139",
   "metadata": {},
   "source": [
    "### 21AG3AI05 DLFA ASSIGNMENT 1"
   ]
  },
  {
   "cell_type": "markdown",
   "id": "304160cd-652b-4e04-b425-50572364ba9b",
   "metadata": {},
   "source": [
    "### TASK 1 - DATA SPLITTING & DATALOADERS"
   ]
  },
  {
   "cell_type": "code",
   "execution_count": 1,
   "id": "6d2e7a02-9705-47c1-b850-9e51cf9472b6",
   "metadata": {},
   "outputs": [],
   "source": [
    "import torch\n",
    "import torch.nn as nn\n",
    "import torch.optim as optim\n",
    "from torch.utils.data import Dataset, DataLoader\n",
    "from sklearn.model_selection import train_test_split\n",
    "from sklearn.preprocessing import StandardScaler\n",
    "import numpy as np\n",
    "import pandas as pd\n",
    "import matplotlib.pyplot as plt\n",
    "from torch.utils.tensorboard import SummaryWriter\n",
    "import os\n",
    "from torchinfo import summary as model_summary\n",
    "\n",
    "torch.manual_seed(42)\n",
    "np.random.seed(42)"
   ]
  },
  {
   "cell_type": "code",
   "execution_count": 2,
   "id": "41bcbc4d-8726-408c-8a70-2e5f6d6b1664",
   "metadata": {},
   "outputs": [],
   "source": [
    "data = pd.read_csv(\"dataset.csv\")\n",
    "data = data.replace([np.inf, -np.inf], np.nan)\n",
    "data = data.dropna()\n",
    "\n",
    "X = data.iloc[:, :-2].values\n",
    "y = data.iloc[:, -2:].values\n",
    "\n",
    "scaler_X = StandardScaler()\n",
    "X_scaled = scaler_X.fit_transform(X)\n",
    "\n",
    "X_train, X_temp, y_train, y_temp = train_test_split(\n",
    "    X_scaled,\n",
    "    y,\n",
    "    test_size=0.3,\n",
    "    random_state=42\n",
    ")\n",
    "X_val, X_test, y_val, y_test = train_test_split(\n",
    "    X_temp,\n",
    "    y_temp,\n",
    "    test_size=0.5,\n",
    "    random_state=42\n",
    ")\n",
    "\n",
    "class MyRegressionDataset(Dataset):\n",
    "    \"\"\"A custom Dataset for regression tasks.\"\"\"\n",
    "    def __init__(self, features, targets):\n",
    "        self.features = torch.from_numpy(features).float()\n",
    "        self.targets = torch.from_numpy(targets).float()\n",
    "\n",
    "    def __len__(self):\n",
    "        return len(self.features)\n",
    "\n",
    "    def __getitem__(self, idx):\n",
    "        return self.features[idx], self.targets[idx]\n",
    "\n",
    "train_dataset = MyRegressionDataset(X_train, y_train)\n",
    "val_dataset = MyRegressionDataset(X_val, y_val)\n",
    "test_dataset = MyRegressionDataset(X_test, y_test)\n",
    "\n",
    "batch_size = 32\n",
    "train_loader = DataLoader(train_dataset, batch_size=batch_size, shuffle=True)\n",
    "val_loader = DataLoader(val_dataset, batch_size=batch_size, shuffle=False)\n",
    "test_loader = DataLoader(test_dataset, batch_size=batch_size, shuffle=False)"
   ]
  },
  {
   "cell_type": "markdown",
   "id": "fa8246d8-ea98-41db-a07f-96c63375d61e",
   "metadata": {},
   "source": [
    "### TASK 2 - FULLY CONNECTED NEURAL NETWORK FOR REGRESSION"
   ]
  },
  {
   "cell_type": "code",
   "execution_count": 3,
   "id": "8b6220b4-04d7-405c-9960-7090330e74a2",
   "metadata": {},
   "outputs": [],
   "source": [
    "class FCNN(nn.Module):\n",
    "    \"\"\"A fully connected neural network for regression.\"\"\"\n",
    "    def __init__(self, in_features):\n",
    "        super(FCNN, self).__init__()\n",
    "        self.fc1 = nn.Linear(in_features, 128)\n",
    "        self.fc2 = nn.Linear(128, 64)\n",
    "        self.fc3 = nn.Linear(64, 16)\n",
    "        self.fc4 = nn.Linear(16, 8)\n",
    "        self.fc5 = nn.Linear(8, 2)\n",
    "        self.relu = nn.ReLU()\n",
    "\n",
    "    def forward(self, x):\n",
    "        x = self.relu(self.fc1(x))\n",
    "        x = self.relu(self.fc2(x))\n",
    "        x = self.relu(self.fc3(x))\n",
    "        x = self.relu(self.fc4(x))\n",
    "        x = self.fc5(x)\n",
    "        return x\n",
    "\n",
    "def count_parameters(model):\n",
    "    \"\"\"Count total number of trainable parameters in the model.\"\"\"\n",
    "    return sum(p.numel() for p in model.parameters() if p.requires_grad)\n",
    "\n",
    "in_features = X_train.shape[1]\n",
    "model = FCNN(in_features)"
   ]
  },
  {
   "cell_type": "markdown",
   "id": "348596d4-b604-4afb-991a-fad9b7f9e159",
   "metadata": {},
   "source": [
    "### TASK 3 - PRINT MODEL SUMMARY"
   ]
  },
  {
   "cell_type": "code",
   "execution_count": 4,
   "id": "18dc712f-f2bb-4f24-ab21-40baa6c59381",
   "metadata": {},
   "outputs": [
    {
     "name": "stdout",
     "output_type": "stream",
     "text": [
      "FCNN(\n",
      "  (fc1): Linear(in_features=20, out_features=128, bias=True)\n",
      "  (fc2): Linear(in_features=128, out_features=64, bias=True)\n",
      "  (fc3): Linear(in_features=64, out_features=16, bias=True)\n",
      "  (fc4): Linear(in_features=16, out_features=8, bias=True)\n",
      "  (fc5): Linear(in_features=8, out_features=2, bias=True)\n",
      "  (relu): ReLU()\n",
      ")\n",
      "Total trainable parameters: 12138\n",
      "==========================================================================================\n",
      "Layer (type:depth-idx)                   Output Shape              Param #\n",
      "==========================================================================================\n",
      "FCNN                                     [32, 2]                   --\n",
      "├─Linear: 1-1                            [32, 128]                 2,688\n",
      "├─ReLU: 1-2                              [32, 128]                 --\n",
      "├─Linear: 1-3                            [32, 64]                  8,256\n",
      "├─ReLU: 1-4                              [32, 64]                  --\n",
      "├─Linear: 1-5                            [32, 16]                  1,040\n",
      "├─ReLU: 1-6                              [32, 16]                  --\n",
      "├─Linear: 1-7                            [32, 8]                   136\n",
      "├─ReLU: 1-8                              [32, 8]                   --\n",
      "├─Linear: 1-9                            [32, 2]                   18\n",
      "==========================================================================================\n",
      "Total params: 12,138\n",
      "Trainable params: 12,138\n",
      "Non-trainable params: 0\n",
      "Total mult-adds (Units.MEGABYTES): 0.39\n",
      "==========================================================================================\n",
      "Input size (MB): 0.00\n",
      "Forward/backward pass size (MB): 0.06\n",
      "Params size (MB): 0.05\n",
      "Estimated Total Size (MB): 0.11\n",
      "==========================================================================================\n"
     ]
    }
   ],
   "source": [
    "print(model)\n",
    "print(f\"Total trainable parameters: {count_parameters(model)}\")\n",
    "\n",
    "print(model_summary(model, input_size=(batch_size, in_features)))"
   ]
  },
  {
   "cell_type": "markdown",
   "id": "5259a8b1-cb63-4ed2-b00a-871aa8751e80",
   "metadata": {},
   "source": [
    "### TASK 4 - DEFINE LOSS FUNCTION"
   ]
  },
  {
   "cell_type": "code",
   "execution_count": 5,
   "id": "f28f11db-41e3-4bf0-bc19-06a2b804f7b6",
   "metadata": {},
   "outputs": [],
   "source": [
    "criterion = nn.MSELoss()"
   ]
  },
  {
   "cell_type": "markdown",
   "id": "462d4051-8ac7-405c-9ed4-23447033a8e2",
   "metadata": {},
   "source": [
    "### TASK 5 - TRAINING PROCESS"
   ]
  },
  {
   "cell_type": "code",
   "execution_count": 6,
   "id": "90108199-b6f9-494b-87d1-dae55317d806",
   "metadata": {},
   "outputs": [
    {
     "name": "stdout",
     "output_type": "stream",
     "text": [
      "Epoch 1/150, Train Loss: 43165.7831, Validation Loss: 47772.3086\n",
      "Epoch 2/150, Train Loss: 43010.6230, Validation Loss: 47355.1109\n",
      "Epoch 3/150, Train Loss: 41930.1968, Validation Loss: 43792.3203\n",
      "Epoch 4/150, Train Loss: 35733.4567, Validation Loss: 30562.8539\n",
      "Epoch 5/150, Train Loss: 23690.7224, Validation Loss: 16316.9998\n",
      "Epoch 6/150, Train Loss: 11739.9499, Validation Loss: 7481.0013\n",
      "Epoch 7/150, Train Loss: 6417.7679, Validation Loss: 5296.3968\n",
      "Epoch 8/150, Train Loss: 5086.9745, Validation Loss: 4898.3328\n",
      "Epoch 9/150, Train Loss: 4799.2091, Validation Loss: 4646.9138\n",
      "Epoch 10/150, Train Loss: 4647.3411, Validation Loss: 4603.1960\n",
      "Epoch 11/150, Train Loss: 4584.4462, Validation Loss: 4568.6983\n",
      "Epoch 12/150, Train Loss: 4595.5207, Validation Loss: 4558.7181\n",
      "Epoch 13/150, Train Loss: 4566.9947, Validation Loss: 4527.2567\n",
      "Epoch 14/150, Train Loss: 4533.7307, Validation Loss: 4516.3893\n",
      "Epoch 15/150, Train Loss: 4568.7373, Validation Loss: 4582.4582\n",
      "Epoch 16/150, Train Loss: 4594.0011, Validation Loss: 4520.6011\n",
      "Epoch 17/150, Train Loss: 4541.4632, Validation Loss: 4510.6854\n",
      "Epoch 18/150, Train Loss: 4536.6874, Validation Loss: 4523.2394\n",
      "Epoch 19/150, Train Loss: 4502.1059, Validation Loss: 4520.5704\n",
      "Epoch 20/150, Train Loss: 4573.1911, Validation Loss: 4565.2381\n",
      "Epoch 21/150, Train Loss: 4550.4464, Validation Loss: 4502.9804\n",
      "Epoch 22/150, Train Loss: 4548.8343, Validation Loss: 4503.5478\n",
      "Epoch 23/150, Train Loss: 4528.4542, Validation Loss: 4490.4824\n",
      "Epoch 24/150, Train Loss: 4496.9814, Validation Loss: 4504.0292\n",
      "Epoch 25/150, Train Loss: 4517.7210, Validation Loss: 4502.4292\n",
      "Epoch 26/150, Train Loss: 4519.9228, Validation Loss: 4571.3001\n",
      "Epoch 27/150, Train Loss: 4477.2649, Validation Loss: 4491.7455\n",
      "Epoch 28/150, Train Loss: 4510.3540, Validation Loss: 4521.6515\n",
      "Epoch 29/150, Train Loss: 4484.8882, Validation Loss: 4465.7120\n",
      "Epoch 30/150, Train Loss: 4498.0715, Validation Loss: 4453.5269\n",
      "Epoch 31/150, Train Loss: 4457.0251, Validation Loss: 4456.3119\n",
      "Epoch 32/150, Train Loss: 4448.6205, Validation Loss: 4428.1897\n",
      "Epoch 33/150, Train Loss: 4421.9375, Validation Loss: 4375.6123\n",
      "Epoch 34/150, Train Loss: 4403.9943, Validation Loss: 4314.7876\n",
      "Epoch 35/150, Train Loss: 4300.5615, Validation Loss: 4231.1491\n",
      "Epoch 36/150, Train Loss: 4213.0409, Validation Loss: 4126.2586\n",
      "Epoch 37/150, Train Loss: 4084.1916, Validation Loss: 3963.2819\n",
      "Epoch 38/150, Train Loss: 3928.4650, Validation Loss: 3967.0083\n",
      "Epoch 39/150, Train Loss: 3737.8438, Validation Loss: 3554.0582\n",
      "Epoch 40/150, Train Loss: 3411.3879, Validation Loss: 3229.4505\n",
      "Epoch 41/150, Train Loss: 3077.8617, Validation Loss: 2902.6872\n",
      "Epoch 42/150, Train Loss: 2779.7737, Validation Loss: 2652.4429\n",
      "Epoch 43/150, Train Loss: 2507.8465, Validation Loss: 2405.8841\n",
      "Epoch 44/150, Train Loss: 2247.6456, Validation Loss: 2137.4977\n",
      "Epoch 45/150, Train Loss: 2110.1119, Validation Loss: 1964.5038\n",
      "Epoch 46/150, Train Loss: 1956.7754, Validation Loss: 1875.0831\n",
      "Epoch 47/150, Train Loss: 1895.8700, Validation Loss: 1799.6686\n",
      "Epoch 48/150, Train Loss: 1819.7150, Validation Loss: 1713.1135\n",
      "Epoch 49/150, Train Loss: 1741.1016, Validation Loss: 1664.1354\n",
      "Epoch 50/150, Train Loss: 1701.5374, Validation Loss: 1579.8374\n",
      "Epoch 51/150, Train Loss: 1657.8810, Validation Loss: 1558.4365\n",
      "Epoch 52/150, Train Loss: 1629.8378, Validation Loss: 1496.9001\n",
      "Epoch 53/150, Train Loss: 1592.7794, Validation Loss: 1488.5458\n",
      "Epoch 54/150, Train Loss: 1563.7698, Validation Loss: 1433.7061\n",
      "Epoch 55/150, Train Loss: 1532.3503, Validation Loss: 1492.6037\n",
      "Epoch 56/150, Train Loss: 1485.0576, Validation Loss: 1408.2565\n",
      "Epoch 57/150, Train Loss: 1455.4834, Validation Loss: 1337.0575\n",
      "Epoch 58/150, Train Loss: 1424.5320, Validation Loss: 1327.0179\n",
      "Epoch 59/150, Train Loss: 1419.0330, Validation Loss: 1277.3937\n",
      "Epoch 60/150, Train Loss: 1381.6796, Validation Loss: 1276.6305\n",
      "Epoch 61/150, Train Loss: 1354.0928, Validation Loss: 1238.3692\n",
      "Epoch 62/150, Train Loss: 1318.8845, Validation Loss: 1279.3239\n",
      "Epoch 63/150, Train Loss: 1302.4271, Validation Loss: 1188.0817\n",
      "Epoch 64/150, Train Loss: 1246.5901, Validation Loss: 1180.2636\n",
      "Epoch 65/150, Train Loss: 1207.1119, Validation Loss: 1100.0426\n",
      "Epoch 66/150, Train Loss: 1185.5442, Validation Loss: 1087.3348\n",
      "Epoch 67/150, Train Loss: 1152.9947, Validation Loss: 1055.2945\n",
      "Epoch 68/150, Train Loss: 1106.4917, Validation Loss: 982.8841\n",
      "Epoch 69/150, Train Loss: 1056.6607, Validation Loss: 964.0101\n",
      "Epoch 70/150, Train Loss: 1000.1505, Validation Loss: 937.2260\n",
      "Epoch 71/150, Train Loss: 962.8265, Validation Loss: 869.0659\n",
      "Epoch 72/150, Train Loss: 937.7812, Validation Loss: 950.2117\n",
      "Epoch 73/150, Train Loss: 872.4788, Validation Loss: 808.5635\n",
      "Epoch 74/150, Train Loss: 803.3836, Validation Loss: 702.6459\n",
      "Epoch 75/150, Train Loss: 759.5030, Validation Loss: 598.4931\n",
      "Epoch 76/150, Train Loss: 700.5023, Validation Loss: 538.8015\n",
      "Epoch 77/150, Train Loss: 601.5047, Validation Loss: 459.9015\n",
      "Epoch 78/150, Train Loss: 501.2049, Validation Loss: 441.0922\n",
      "Epoch 79/150, Train Loss: 410.2260, Validation Loss: 328.6982\n",
      "Epoch 80/150, Train Loss: 350.4578, Validation Loss: 261.5292\n",
      "Epoch 81/150, Train Loss: 276.9177, Validation Loss: 205.0488\n",
      "Epoch 82/150, Train Loss: 221.8494, Validation Loss: 190.8853\n",
      "Epoch 83/150, Train Loss: 172.5455, Validation Loss: 205.1613\n",
      "Epoch 84/150, Train Loss: 131.5005, Validation Loss: 129.5416\n",
      "Epoch 85/150, Train Loss: 135.8517, Validation Loss: 101.4417\n",
      "Epoch 86/150, Train Loss: 92.7737, Validation Loss: 115.8467\n",
      "Epoch 87/150, Train Loss: 86.2722, Validation Loss: 114.3591\n",
      "Epoch 88/150, Train Loss: 79.6758, Validation Loss: 68.1068\n",
      "Epoch 89/150, Train Loss: 63.6211, Validation Loss: 86.6520\n",
      "Epoch 90/150, Train Loss: 57.7098, Validation Loss: 68.9682\n",
      "Epoch 91/150, Train Loss: 56.2220, Validation Loss: 67.9883\n",
      "Epoch 92/150, Train Loss: 55.6739, Validation Loss: 147.2510\n",
      "Epoch 93/150, Train Loss: 43.9886, Validation Loss: 56.0581\n",
      "Epoch 94/150, Train Loss: 41.5680, Validation Loss: 53.8854\n",
      "Epoch 95/150, Train Loss: 40.4417, Validation Loss: 138.6407\n",
      "Epoch 96/150, Train Loss: 39.5009, Validation Loss: 63.3976\n",
      "Epoch 97/150, Train Loss: 40.6944, Validation Loss: 53.8150\n",
      "Epoch 98/150, Train Loss: 29.0739, Validation Loss: 63.6176\n",
      "Epoch 99/150, Train Loss: 44.7582, Validation Loss: 72.4839\n",
      "Epoch 100/150, Train Loss: 44.4108, Validation Loss: 100.9914\n",
      "Epoch 101/150, Train Loss: 55.3089, Validation Loss: 60.3850\n",
      "Epoch 102/150, Train Loss: 29.2019, Validation Loss: 57.5834\n",
      "Epoch 103/150, Train Loss: 25.7770, Validation Loss: 47.2319\n",
      "Epoch 104/150, Train Loss: 28.8006, Validation Loss: 57.5304\n",
      "Epoch 105/150, Train Loss: 26.7871, Validation Loss: 32.5290\n",
      "Epoch 106/150, Train Loss: 25.2564, Validation Loss: 74.0999\n",
      "Epoch 107/150, Train Loss: 25.7048, Validation Loss: 31.7844\n",
      "Epoch 108/150, Train Loss: 28.3567, Validation Loss: 47.3020\n",
      "Epoch 109/150, Train Loss: 19.6561, Validation Loss: 35.2468\n",
      "Epoch 110/150, Train Loss: 17.1730, Validation Loss: 29.3296\n",
      "Epoch 111/150, Train Loss: 25.2833, Validation Loss: 41.1909\n",
      "Epoch 112/150, Train Loss: 16.3991, Validation Loss: 39.1951\n",
      "Epoch 113/150, Train Loss: 15.6566, Validation Loss: 32.2684\n",
      "Epoch 114/150, Train Loss: 18.0493, Validation Loss: 31.3211\n",
      "Epoch 115/150, Train Loss: 21.3691, Validation Loss: 45.0197\n",
      "Epoch 116/150, Train Loss: 31.6718, Validation Loss: 63.9686\n",
      "Epoch 117/150, Train Loss: 15.9624, Validation Loss: 30.6397\n",
      "Epoch 118/150, Train Loss: 8.7904, Validation Loss: 27.5761\n",
      "Epoch 119/150, Train Loss: 10.4103, Validation Loss: 27.8279\n",
      "Epoch 120/150, Train Loss: 8.5009, Validation Loss: 26.2049\n",
      "Epoch 121/150, Train Loss: 7.2592, Validation Loss: 25.8892\n",
      "Epoch 122/150, Train Loss: 7.1121, Validation Loss: 26.4814\n",
      "Epoch 123/150, Train Loss: 9.0083, Validation Loss: 25.1540\n",
      "Epoch 124/150, Train Loss: 10.3163, Validation Loss: 25.6737\n",
      "Epoch 125/150, Train Loss: 7.5566, Validation Loss: 27.1686\n",
      "Epoch 126/150, Train Loss: 7.3950, Validation Loss: 25.1253\n",
      "Epoch 127/150, Train Loss: 6.6065, Validation Loss: 26.3751\n",
      "Epoch 128/150, Train Loss: 7.0421, Validation Loss: 24.9079\n",
      "Epoch 129/150, Train Loss: 7.2634, Validation Loss: 26.3544\n",
      "Epoch 130/150, Train Loss: 7.0312, Validation Loss: 26.9944\n",
      "Epoch 131/150, Train Loss: 7.7637, Validation Loss: 24.1188\n",
      "Epoch 132/150, Train Loss: 6.2138, Validation Loss: 26.2916\n",
      "Epoch 133/150, Train Loss: 7.1246, Validation Loss: 26.4876\n",
      "Epoch 134/150, Train Loss: 7.1152, Validation Loss: 24.5462\n",
      "Epoch 135/150, Train Loss: 6.4745, Validation Loss: 24.8716\n",
      "Epoch 136/150, Train Loss: 6.3082, Validation Loss: 24.2138\n",
      "Epoch 137/150, Train Loss: 6.2005, Validation Loss: 25.2619\n",
      "Epoch 138/150, Train Loss: 5.2604, Validation Loss: 22.9048\n",
      "Epoch 139/150, Train Loss: 4.7960, Validation Loss: 22.9686\n",
      "Epoch 140/150, Train Loss: 4.5942, Validation Loss: 23.0826\n",
      "Epoch 141/150, Train Loss: 4.7863, Validation Loss: 23.8767\n",
      "Epoch 142/150, Train Loss: 4.5948, Validation Loss: 22.9651\n",
      "Epoch 143/150, Train Loss: 5.5174, Validation Loss: 25.7896\n",
      "Epoch 144/150, Train Loss: 4.8167, Validation Loss: 22.6162\n",
      "Epoch 145/150, Train Loss: 4.4053, Validation Loss: 23.2416\n",
      "Epoch 146/150, Train Loss: 4.2824, Validation Loss: 23.0916\n",
      "Epoch 147/150, Train Loss: 4.3475, Validation Loss: 22.6243\n",
      "Epoch 148/150, Train Loss: 4.3010, Validation Loss: 22.8481\n",
      "Epoch 149/150, Train Loss: 4.1512, Validation Loss: 23.6643\n",
      "Epoch 150/150, Train Loss: 4.4757, Validation Loss: 23.0234\n"
     ]
    }
   ],
   "source": [
    "optimizer = optim.SGD(model.parameters(), lr=0.01, momentum=0.9)\n",
    "scheduler = optim.lr_scheduler.ReduceLROnPlateau(optimizer, mode='min', factor=0.3, patience=5)\n",
    "\n",
    "epochs = 150\n",
    "train_losses = []\n",
    "val_losses = []\n",
    "\n",
    "for epoch in range(epochs):\n",
    "    model.train()\n",
    "    train_loss = 0.0\n",
    "    for X_batch, y_batch in train_loader:\n",
    "        optimizer.zero_grad()\n",
    "        y_pred = model(X_batch)\n",
    "        loss = criterion(y_pred, y_batch)\n",
    "        loss.backward()\n",
    "        torch.nn.utils.clip_grad_norm_(model.parameters(), max_norm=1.0)\n",
    "        optimizer.step()\n",
    "        train_loss += loss.item()\n",
    "    train_loss /= len(train_loader)\n",
    "    train_losses.append(train_loss)\n",
    "\n",
    "    model.eval()\n",
    "    val_loss = 0.0\n",
    "    with torch.no_grad():\n",
    "        for X_batch, y_batch in val_loader:\n",
    "            y_pred = model(X_batch)\n",
    "            loss = criterion(y_pred, y_batch)\n",
    "            val_loss += loss.item()\n",
    "    val_loss /= len(val_loader)\n",
    "    val_losses.append(val_loss)\n",
    "\n",
    "    scheduler.step(val_loss)\n",
    "    print(f\"Epoch {epoch+1}/{epochs}, Train Loss: {train_loss:.4f}, Validation Loss: {val_loss:.4f}\")\n"
   ]
  },
  {
   "cell_type": "markdown",
   "id": "4c879ba6-72b1-430e-9f03-9509d7416b0f",
   "metadata": {},
   "source": [
    "### TASK 6 - VISUALIZE TRAINING & VALIDATION LOSSES WITH TENSORBOARD"
   ]
  },
  {
   "cell_type": "code",
   "execution_count": 7,
   "id": "cd767aa7-2728-46bd-aed4-090abf3b49ba",
   "metadata": {},
   "outputs": [
    {
     "data": {
      "text/html": [
       "\n",
       "      <iframe id=\"tensorboard-frame-36e7d97d80009192\" width=\"100%\" height=\"800\" frameborder=\"0\">\n",
       "      </iframe>\n",
       "      <script>\n",
       "        (function() {\n",
       "          const frame = document.getElementById(\"tensorboard-frame-36e7d97d80009192\");\n",
       "          const url = new URL(\"/\", window.location);\n",
       "          const port = 6020;\n",
       "          if (port) {\n",
       "            url.port = port;\n",
       "          }\n",
       "          frame.src = url;\n",
       "        })();\n",
       "      </script>\n",
       "    "
      ],
      "text/plain": [
       "<IPython.core.display.HTML object>"
      ]
     },
     "metadata": {},
     "output_type": "display_data"
    }
   ],
   "source": [
    "writer = SummaryWriter(log_dir='runs/regression_experiment_7')\n",
    "\n",
    "for epoch in range(epochs):\n",
    "    writer.add_scalar('Loss/Train', train_losses[epoch], epoch)\n",
    "    writer.add_scalar('Loss/Validation', val_losses[epoch], epoch)\n",
    "\n",
    "writer.close()\n",
    "\n",
    "%load_ext tensorboard\n",
    "    \n",
    "%tensorboard --logdir=runs --port=6020"
   ]
  },
  {
   "cell_type": "markdown",
   "id": "e7123963-f5b1-4302-8e6a-d54c6aa36917",
   "metadata": {},
   "source": [
    "### TASK 7 - SAVE THE TRAINED MODEL"
   ]
  },
  {
   "cell_type": "code",
   "execution_count": 8,
   "id": "db5f4e8f-57d4-4709-bbed-b235f702f23f",
   "metadata": {},
   "outputs": [
    {
     "name": "stdout",
     "output_type": "stream",
     "text": [
      "Model saved to fcnn_regression.pth.\n"
     ]
    }
   ],
   "source": [
    "# Task 7\n",
    "model_save_path = 'fcnn_regression.pth'\n",
    "torch.save(model.state_dict(), model_save_path)\n",
    "print(f\"Model saved to {model_save_path}.\")"
   ]
  },
  {
   "cell_type": "markdown",
   "id": "8d712b98-8628-4263-980b-559e5fef02b0",
   "metadata": {},
   "source": [
    "### TASK 8 - LOAD THE TRAINED MODEL & EVALUATE ON TEST DATA (MSE)"
   ]
  },
  {
   "cell_type": "code",
   "execution_count": 9,
   "id": "12a43ebf-e6ab-43d5-88f8-2943479d3122",
   "metadata": {},
   "outputs": [
    {
     "name": "stdout",
     "output_type": "stream",
     "text": [
      "Test MSE = 21.9374\n"
     ]
    }
   ],
   "source": [
    "loaded_model = FCNN(in_features=in_features)\n",
    "loaded_model.load_state_dict(torch.load(model_save_path))\n",
    "loaded_model.eval()\n",
    "\n",
    "all_preds = []\n",
    "all_targets = []\n",
    "\n",
    "with torch.no_grad():\n",
    "    for batch_features, batch_targets in test_loader:\n",
    "        preds = loaded_model(batch_features)\n",
    "        all_preds.append(preds.numpy())\n",
    "        all_targets.append(batch_targets.numpy())\n",
    "\n",
    "all_preds = np.concatenate(all_preds, axis=0)\n",
    "all_targets = np.concatenate(all_targets, axis=0)\n",
    "\n",
    "mse_test = np.mean((all_preds - all_targets)**2)\n",
    "print(f\"Test MSE = {mse_test:.4f}\")\n"
   ]
  },
  {
   "cell_type": "markdown",
   "id": "abd685c0-ceeb-4324-bdb0-fdd01e95f26d",
   "metadata": {},
   "source": [
    "### TASK 9 - SCATTER PLOTS (y_1 AND y_2): PREDICTED vs. TRUE"
   ]
  },
  {
   "cell_type": "code",
   "execution_count": 10,
   "id": "fad774bb-f1ff-4cca-a0ae-13369375a31c",
   "metadata": {},
   "outputs": [
    {
     "data": {
      "image/png": "[encoded data removed]",
      "text/plain": [
       "<Figure size 600x500 with 1 Axes>"
      ]
     },
     "metadata": {},
     "output_type": "display_data"
    },
    {
     "data": {
      "image/png": "[encoded data removed]",
      "text/plain": [
       "<Figure size 600x500 with 1 Axes>"
      ]
     },
     "metadata": {},
     "output_type": "display_data"
    }
   ],
   "source": [
    "pred_y1 = all_preds[:, 0]\n",
    "pred_y2 = all_preds[:, 1]\n",
    "true_y1 = all_targets[:, 0]\n",
    "true_y2 = all_targets[:, 1]\n",
    "\n",
    "plt.figure(figsize=(6,5))\n",
    "plt.scatter(true_y1, pred_y1, alpha=0.6, color='blue')\n",
    "plt.xlabel('True y_1')\n",
    "plt.ylabel('Predicted y_1')\n",
    "plt.title('y_1: Predicted vs. Actual')\n",
    "plt.show()\n",
    "\n",
    "plt.figure(figsize=(6,5))\n",
    "plt.scatter(true_y2, pred_y2, alpha=0.6, color='green')\n",
    "plt.xlabel('True y_2')\n",
    "plt.ylabel('Predicted y_2')\n",
    "plt.title('y_2: Predicted vs. Actual')\n",
    "plt.show()\n"
   ]
  },
  {
   "cell_type": "code",
   "execution_count": null,
   "id": "ca08c52c-8187-40c1-a55e-780371966156",
   "metadata": {},
   "outputs": [],
   "source": []
  }
 ],
 "metadata": {
  "kernelspec": {
   "display_name": "Python 3 (ipykernel)",
   "language": "python",
   "name": "python3"
  },
  "language_info": {
   "codemirror_mode": {
    "name": "ipython",
    "version": 3
   },
   "file_extension": ".py",
   "mimetype": "text/x-python",
   "name": "python",
   "nbconvert_exporter": "python",
   "pygments_lexer": "ipython3",
   "version": "3.12.7"
  }
 },
 "nbformat": 4,
 "nbformat_minor": 5
}
